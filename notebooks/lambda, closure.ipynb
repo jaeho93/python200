{
 "cells": [
  {
   "cell_type": "markdown",
   "metadata": {},
   "source": [
    "# 일급 객체 - first-class object\n",
    "\n",
    "다음 조건을 만족하는 객체이다.\n",
    "\n",
    "- 변수나 데이터 구조에 넣을 수 있어야 한다.\n",
    "\n",
    "- 매개변수에 전달할 수 있어야 한다.\n",
    "\n",
    "- 변환값으로 사용할 수 있어야 한다.\n",
    "\n",
    "## 일급 함수 : 위의 조건을 만족하면서 < 실행 중에 함수를 생성할 수 있어야 한다>\n",
    "\n",
    "파이썬에서는, `def` 안에서 `def` 로 함수를 만들거나 `lambda`를 사영하여 실행 중에 함수를 생성할 수 있으므로 파이썬의 함수는 일급 함수이다."
   ]
  },
  {
   "cell_type": "markdown",
   "metadata": {},
   "source": [
    "순수 객체, 1급 객체\n",
    "\n",
    "이터러블 객체, 이터레이터, 컨프리헨션 제너레이터, 코루틴, 데코레이터\n",
    "\n",
    " 람다, 클로저\n"
   ]
  },
  {
   "cell_type": "markdown",
   "metadata": {},
   "source": [
    "Lambda Expression\n",
    "\n",
    "람다는 익명함수.\n",
    "\n",
    "한 줄로 함수를 작성하는 방식으로 함수를 간편하게 작성할 수 있다."
   ]
  },
  {
   "cell_type": "code",
   "execution_count": 1,
   "metadata": {},
   "outputs": [],
   "source": [
    "def plus_ten(x):\n",
    "    return x + 10"
   ]
  },
  {
   "cell_type": "code",
   "execution_count": 2,
   "metadata": {},
   "outputs": [
    {
     "data": {
      "text/plain": [
       "[11, 12, 13]"
      ]
     },
     "execution_count": 2,
     "metadata": {},
     "output_type": "execute_result"
    }
   ],
   "source": [
    "list(map(plus_ten, [1, 2, 3]))"
   ]
  },
  {
   "cell_type": "code",
   "execution_count": 6,
   "metadata": {},
   "outputs": [
    {
     "data": {
      "text/plain": [
       "[11, 12, 13]"
      ]
     },
     "execution_count": 6,
     "metadata": {},
     "output_type": "execute_result"
    }
   ],
   "source": [
    "list(map(lambda x: x + 10, [1, 2, 3]))"
   ]
  },
  {
   "cell_type": "markdown",
   "metadata": {},
   "source": [
    "### 람다의 특징은 이름이 없는 함수라는 점. 익명 함수라고도 한다."
   ]
  },
  {
   "cell_type": "code",
   "execution_count": 7,
   "metadata": {},
   "outputs": [
    {
     "data": {
      "text/plain": [
       "11"
      ]
     },
     "execution_count": 7,
     "metadata": {},
     "output_type": "execute_result"
    }
   ],
   "source": [
    "(lambda x: x + 10)(1)"
   ]
  },
  {
   "cell_type": "markdown",
   "metadata": {},
   "source": [
    "### 람다 표현식 안에서는 새 변수를 선언할 수 없다.\n",
    "### 하지만 람다 바깥의 변수는 사용할 수 있다."
   ]
  },
  {
   "cell_type": "code",
   "execution_count": 8,
   "metadata": {},
   "outputs": [
    {
     "ename": "SyntaxError",
     "evalue": "invalid syntax (<ipython-input-8-f39371b7f7d5>, line 1)",
     "output_type": "error",
     "traceback": [
      "\u001b[0;36m  File \u001b[0;32m\"<ipython-input-8-f39371b7f7d5>\"\u001b[0;36m, line \u001b[0;32m1\u001b[0m\n\u001b[0;31m    (lambda x: y = 10; x + y)(1)\u001b[0m\n\u001b[0m                 ^\u001b[0m\n\u001b[0;31mSyntaxError\u001b[0m\u001b[0;31m:\u001b[0m invalid syntax\n"
     ]
    }
   ],
   "source": [
    "(lambda x: y = 10; x + y)(1)"
   ]
  },
  {
   "cell_type": "code",
   "execution_count": 9,
   "metadata": {},
   "outputs": [
    {
     "data": {
      "text/plain": [
       "11"
      ]
     },
     "execution_count": 9,
     "metadata": {},
     "output_type": "execute_result"
    }
   ],
   "source": [
    "y = 10\n",
    "(lambda x: x + y)(1)"
   ]
  },
  {
   "cell_type": "markdown",
   "metadata": {},
   "source": [
    "매개 변수가 없는 함수도 가능하다."
   ]
  },
  {
   "cell_type": "code",
   "execution_count": 12,
   "metadata": {},
   "outputs": [
    {
     "data": {
      "text/plain": [
       "1"
      ]
     },
     "execution_count": 12,
     "metadata": {},
     "output_type": "execute_result"
    }
   ],
   "source": [
    "(lambda : 1)()"
   ]
  },
  {
   "cell_type": "code",
   "execution_count": 13,
   "metadata": {},
   "outputs": [
    {
     "data": {
      "text/plain": [
       "10"
      ]
     },
     "execution_count": 13,
     "metadata": {},
     "output_type": "execute_result"
    }
   ],
   "source": [
    "x = 10\n",
    "(lambda : x)()"
   ]
  },
  {
   "cell_type": "markdown",
   "metadata": {},
   "source": [
    "# 리스트에서 3의 배수를 문자열로"
   ]
  },
  {
   "cell_type": "code",
   "execution_count": 17,
   "metadata": {},
   "outputs": [
    {
     "data": {
      "text/plain": [
       "[1, 2, '3', 4, 5, '6', 7, 8, '9', 10]"
      ]
     },
     "execution_count": 17,
     "metadata": {},
     "output_type": "execute_result"
    }
   ],
   "source": [
    "a = [1, 2, 3, 4, 5, 6, 7, 8, 9, 10]\n",
    "list(map(lambda x: str(x) if x % 3 == 0 else x, a))"
   ]
  },
  {
   "cell_type": "code",
   "execution_count": 18,
   "metadata": {},
   "outputs": [
    {
     "data": {
      "text/plain": [
       "['1', 2.0, 13, 14, 15, 16, 17, 18, 19, 20]"
      ]
     },
     "execution_count": 18,
     "metadata": {},
     "output_type": "execute_result"
    }
   ],
   "source": [
    "# 1은 문자열 2는 실수 3이상은 +10\n",
    "list(map(lambda x: str(x) if x == 1 else float(x) if x == 2 else x + 10, a))"
   ]
  },
  {
   "cell_type": "code",
   "execution_count": 19,
   "metadata": {},
   "outputs": [
    {
     "data": {
      "text/plain": [
       "[2, 8, 18, 32, 50]"
      ]
     },
     "execution_count": 19,
     "metadata": {},
     "output_type": "execute_result"
    }
   ],
   "source": [
    "# 두 리스트의 요소를 곱해서 새로운 리스트\n",
    "a = [1, 2, 3, 4, 5]\n",
    "b = [2, 4, 6, 8, 10]\n",
    "list(map(lambda x, y: x * y, a, b))"
   ]
  },
  {
   "cell_type": "code",
   "execution_count": 20,
   "metadata": {},
   "outputs": [
    {
     "data": {
      "text/plain": [
       "[8, 7, 9]"
      ]
     },
     "execution_count": 20,
     "metadata": {},
     "output_type": "execute_result"
    }
   ],
   "source": [
    "# 5보다 크면서 10보다 작은 숫자 // lambda 의 반환 값이 True 인 것만  추출\n",
    "a = [8, 3, 2, 10, 15, 7, 1, 9, 0, 11]\n",
    "list(filter(lambda x: x > 5 and x < 10, a))"
   ]
  },
  {
   "cell_type": "code",
   "execution_count": 21,
   "metadata": {},
   "outputs": [
    {
     "data": {
      "text/plain": [
       "15"
      ]
     },
     "execution_count": 21,
     "metadata": {},
     "output_type": "execute_result"
    }
   ],
   "source": [
    "a = [1, 2, 3, 4, 5]\n",
    "from functools import reduce\n",
    "reduce(lambda x, y: x+y, a)"
   ]
  },
  {
   "cell_type": "code",
   "execution_count": 22,
   "metadata": {},
   "outputs": [],
   "source": [
    "files = ['font', '1.png', '10.jpg', '11.gif', '2.jpg', '3.png', 'table.xslx', 'spec.docx']"
   ]
  },
  {
   "cell_type": "code",
   "execution_count": 24,
   "metadata": {},
   "outputs": [
    {
     "name": "stdout",
     "output_type": "stream",
     "text": [
      "['1.png', '10.jpg', '2.jpg', '3.png']\n"
     ]
    }
   ],
   "source": [
    "print(list(filter(lambda x: x.find('jpg') != -1 or x.find('png') != -1, files)))"
   ]
  },
  {
   "cell_type": "code",
   "execution_count": 26,
   "metadata": {},
   "outputs": [
    {
     "name": "stdout",
     "output_type": "stream",
     "text": [
      "1.jpg 10.png 11.png 2.jpg 3.png\n",
      "['001.jpg', '010.png', '011.png', '002.jpg', '003.png']\n"
     ]
    }
   ],
   "source": [
    "files = input().split()\n",
    "print(list(map(lambda x: '0' * (3-x.find('.')) + x, files)))"
   ]
  },
  {
   "cell_type": "code",
   "execution_count": 34,
   "metadata": {},
   "outputs": [
    {
     "data": {
      "text/plain": [
       "'00010'"
      ]
     },
     "execution_count": 34,
     "metadata": {},
     "output_type": "execute_result"
    }
   ],
   "source": [
    "a = 10\n",
    "'%05d'%(a)"
   ]
  },
  {
   "cell_type": "code",
   "execution_count": 35,
   "metadata": {},
   "outputs": [
    {
     "data": {
      "text/plain": [
       "{'__name__': '__main__',\n",
       " '__doc__': 'Automatically created module for IPython interactive environment',\n",
       " '__package__': None,\n",
       " '__loader__': None,\n",
       " '__spec__': None,\n",
       " '__builtin__': <module 'builtins' (built-in)>,\n",
       " '__builtins__': <module 'builtins' (built-in)>,\n",
       " '_ih': ['',\n",
       "  'def plus_ten(x):\\n    return x + 10',\n",
       "  'list(map(plus_ten, [1, 2, 3]))',\n",
       "  'import iplantuml',\n",
       "  \"get_ipython().run_cell_magic('plantuml', '', '\\\\n@startuml\\\\nAlice -> Bob: Authentication Request\\\\nBob --> Alice: Authentication Response\\\\n@enduml')\",\n",
       "  'list(map(lambda x: x + 10, [1, 2, 3])',\n",
       "  'list(map(lambda x: x + 10, [1, 2, 3]))',\n",
       "  '(lambda x: x + 10)(1)',\n",
       "  '(lambda x: y = 10; x + y)(1)',\n",
       "  'y = 10\\n(lambda x: x + y)(1)',\n",
       "  'lambda : 1',\n",
       "  '(lambda : 1)(1)',\n",
       "  '(lambda : 1)()',\n",
       "  'x = 10\\n(lambda : x)()',\n",
       "  'a = [1, 2, 3, 4, 5, 6, 7, 8, 9, 10]\\nlist(map(lambda x: str(x) if x % 3 == 0, a))',\n",
       "  'a = [1, 2, 3, 4, 5, 6, 7, 8, 9, 10]\\nlist(map(lambda x: str(x) if x % 3 == 0 else x, a))',\n",
       "  'a = [1, 2, 3, 4, 5, 6, 7, 8, 9, 10]\\nlist(map(lambda x: str(x) if x % 3 == 0 , a))',\n",
       "  'a = [1, 2, 3, 4, 5, 6, 7, 8, 9, 10]\\nlist(map(lambda x: str(x) if x % 3 == 0 else x, a))',\n",
       "  '# 1은 문자열 2는 실수 3이상은 +10\\nlist(map(lambda x: str(x) if x == 1 else float(x) if x == 2 else x + 10, a))',\n",
       "  '# 두 리스트의 요소를 곱해서 새로운 리스트\\na = [1, 2, 3, 4, 5]\\nb = [2, 4, 6, 8, 10]\\nlist(map(lambda x, y: x * y, a, b))',\n",
       "  '# 5보다 크면서 10보다 작은 숫자\\na = [8, 3, 2, 10, 15, 7, 1, 9, 0, 11]\\nlist(filter(lambda x: x > 5 and x < 10, a))',\n",
       "  'a = [1, 2, 3, 4, 5]\\nfrom functools import reduce\\nreduce(lambda x, y: x+y, a)',\n",
       "  \"files = ['font', '1.png', '10.jpg', '11.gif', '2.jpg', '3.png', 'table.xslx', 'spec.docx']\",\n",
       "  \"print(list(filter(lambda x: x.find('jpg') or x.find('png'), files)))\",\n",
       "  \"print(list(filter(lambda x: x.find('jpg') != -1 or x.find('png') != -1, files)))\",\n",
       "  \"files = input().split()\\nprint(list(map(lambda x: '0' * (4-x.find('.')) + x, files)))\",\n",
       "  \"files = input().split()\\nprint(list(map(lambda x: '0' * (3-x.find('.')) + x, files)))\",\n",
       "  \"a = 10\\n'{0b}'.format(a)\",\n",
       "  \"a = 10\\n'{0d}'.format(a)\",\n",
       "  \"a = 10\\n'{0:0d}'.format(a)\",\n",
       "  \"a = 10\\n'{0:0b}'.format(a)\",\n",
       "  \"a = 10\\n'{0:04b}'.format(a)\",\n",
       "  \"a = 10\\n'{0:05b}'.format(a)\",\n",
       "  \"a = 10\\n'%05b'%(a)\",\n",
       "  \"a = 10\\n'%05d'%(a)\",\n",
       "  'locals()'],\n",
       " '_oh': {2: [11, 12, 13],\n",
       "  4: <IPython.core.display.SVG object>,\n",
       "  6: [11, 12, 13],\n",
       "  7: 11,\n",
       "  9: 11,\n",
       "  10: <function __main__.<lambda>()>,\n",
       "  12: 1,\n",
       "  13: 10,\n",
       "  15: [1, 2, '3', 4, 5, '6', 7, 8, '9', 10],\n",
       "  17: [1, 2, '3', 4, 5, '6', 7, 8, '9', 10],\n",
       "  18: ['1', 2.0, 13, 14, 15, 16, 17, 18, 19, 20],\n",
       "  19: [2, 8, 18, 32, 50],\n",
       "  20: [8, 7, 9],\n",
       "  21: 15,\n",
       "  29: '10',\n",
       "  30: '1010',\n",
       "  31: '1010',\n",
       "  32: '01010',\n",
       "  34: '00010'},\n",
       " '_dh': ['/Users/jaeho/develop/algorithms'],\n",
       " 'In': ['',\n",
       "  'def plus_ten(x):\\n    return x + 10',\n",
       "  'list(map(plus_ten, [1, 2, 3]))',\n",
       "  'import iplantuml',\n",
       "  \"get_ipython().run_cell_magic('plantuml', '', '\\\\n@startuml\\\\nAlice -> Bob: Authentication Request\\\\nBob --> Alice: Authentication Response\\\\n@enduml')\",\n",
       "  'list(map(lambda x: x + 10, [1, 2, 3])',\n",
       "  'list(map(lambda x: x + 10, [1, 2, 3]))',\n",
       "  '(lambda x: x + 10)(1)',\n",
       "  '(lambda x: y = 10; x + y)(1)',\n",
       "  'y = 10\\n(lambda x: x + y)(1)',\n",
       "  'lambda : 1',\n",
       "  '(lambda : 1)(1)',\n",
       "  '(lambda : 1)()',\n",
       "  'x = 10\\n(lambda : x)()',\n",
       "  'a = [1, 2, 3, 4, 5, 6, 7, 8, 9, 10]\\nlist(map(lambda x: str(x) if x % 3 == 0, a))',\n",
       "  'a = [1, 2, 3, 4, 5, 6, 7, 8, 9, 10]\\nlist(map(lambda x: str(x) if x % 3 == 0 else x, a))',\n",
       "  'a = [1, 2, 3, 4, 5, 6, 7, 8, 9, 10]\\nlist(map(lambda x: str(x) if x % 3 == 0 , a))',\n",
       "  'a = [1, 2, 3, 4, 5, 6, 7, 8, 9, 10]\\nlist(map(lambda x: str(x) if x % 3 == 0 else x, a))',\n",
       "  '# 1은 문자열 2는 실수 3이상은 +10\\nlist(map(lambda x: str(x) if x == 1 else float(x) if x == 2 else x + 10, a))',\n",
       "  '# 두 리스트의 요소를 곱해서 새로운 리스트\\na = [1, 2, 3, 4, 5]\\nb = [2, 4, 6, 8, 10]\\nlist(map(lambda x, y: x * y, a, b))',\n",
       "  '# 5보다 크면서 10보다 작은 숫자\\na = [8, 3, 2, 10, 15, 7, 1, 9, 0, 11]\\nlist(filter(lambda x: x > 5 and x < 10, a))',\n",
       "  'a = [1, 2, 3, 4, 5]\\nfrom functools import reduce\\nreduce(lambda x, y: x+y, a)',\n",
       "  \"files = ['font', '1.png', '10.jpg', '11.gif', '2.jpg', '3.png', 'table.xslx', 'spec.docx']\",\n",
       "  \"print(list(filter(lambda x: x.find('jpg') or x.find('png'), files)))\",\n",
       "  \"print(list(filter(lambda x: x.find('jpg') != -1 or x.find('png') != -1, files)))\",\n",
       "  \"files = input().split()\\nprint(list(map(lambda x: '0' * (4-x.find('.')) + x, files)))\",\n",
       "  \"files = input().split()\\nprint(list(map(lambda x: '0' * (3-x.find('.')) + x, files)))\",\n",
       "  \"a = 10\\n'{0b}'.format(a)\",\n",
       "  \"a = 10\\n'{0d}'.format(a)\",\n",
       "  \"a = 10\\n'{0:0d}'.format(a)\",\n",
       "  \"a = 10\\n'{0:0b}'.format(a)\",\n",
       "  \"a = 10\\n'{0:04b}'.format(a)\",\n",
       "  \"a = 10\\n'{0:05b}'.format(a)\",\n",
       "  \"a = 10\\n'%05b'%(a)\",\n",
       "  \"a = 10\\n'%05d'%(a)\",\n",
       "  'locals()'],\n",
       " 'Out': {2: [11, 12, 13],\n",
       "  4: <IPython.core.display.SVG object>,\n",
       "  6: [11, 12, 13],\n",
       "  7: 11,\n",
       "  9: 11,\n",
       "  10: <function __main__.<lambda>()>,\n",
       "  12: 1,\n",
       "  13: 10,\n",
       "  15: [1, 2, '3', 4, 5, '6', 7, 8, '9', 10],\n",
       "  17: [1, 2, '3', 4, 5, '6', 7, 8, '9', 10],\n",
       "  18: ['1', 2.0, 13, 14, 15, 16, 17, 18, 19, 20],\n",
       "  19: [2, 8, 18, 32, 50],\n",
       "  20: [8, 7, 9],\n",
       "  21: 15,\n",
       "  29: '10',\n",
       "  30: '1010',\n",
       "  31: '1010',\n",
       "  32: '01010',\n",
       "  34: '00010'},\n",
       " 'get_ipython': <bound method InteractiveShell.get_ipython of <ipykernel.zmqshell.ZMQInteractiveShell object at 0x1058a77f0>>,\n",
       " 'exit': <IPython.core.autocall.ZMQExitAutocall at 0x10590b828>,\n",
       " 'quit': <IPython.core.autocall.ZMQExitAutocall at 0x10590b828>,\n",
       " '_': '00010',\n",
       " '__': '01010',\n",
       " '___': '1010',\n",
       " '_i': \"a = 10\\n'%05d'%(a)\",\n",
       " '_ii': \"a = 10\\n'%05b'%(a)\",\n",
       " '_iii': \"a = 10\\n'{0:05b}'.format(a)\",\n",
       " '_i1': 'def plus_ten(x):\\n    return x + 10',\n",
       " 'plus_ten': <function __main__.plus_ten(x)>,\n",
       " '_i2': 'list(map(plus_ten, [1, 2, 3]))',\n",
       " '_2': [11, 12, 13],\n",
       " '_i3': 'import iplantuml',\n",
       " 'iplantuml': <module 'iplantuml' from '/Users/jaeho/anaconda3/lib/python3.6/site-packages/iplantuml/__init__.py'>,\n",
       " '_i4': '%%plantuml\\n\\n@startuml\\nAlice -> Bob: Authentication Request\\nBob --> Alice: Authentication Response\\n@enduml',\n",
       " '_4': <IPython.core.display.SVG object>,\n",
       " '_i5': 'list(map(lambda x: x + 10, [1, 2, 3])',\n",
       " '_i6': 'list(map(lambda x: x + 10, [1, 2, 3]))',\n",
       " '_6': [11, 12, 13],\n",
       " '_i7': '(lambda x: x + 10)(1)',\n",
       " '_7': 11,\n",
       " '_i8': '(lambda x: y = 10; x + y)(1)',\n",
       " '_i9': 'y = 10\\n(lambda x: x + y)(1)',\n",
       " 'y': 10,\n",
       " '_9': 11,\n",
       " '_i10': 'lambda : 1',\n",
       " '_10': <function __main__.<lambda>()>,\n",
       " '_i11': '(lambda : 1)(1)',\n",
       " '_i12': '(lambda : 1)()',\n",
       " '_12': 1,\n",
       " '_i13': 'x = 10\\n(lambda : x)()',\n",
       " 'x': 10,\n",
       " '_13': 10,\n",
       " '_i14': 'a = [1, 2, 3, 4, 5, 6, 7, 8, 9, 10]\\nlist(map(lambda x: str(x) if x % 3 == 0, a))',\n",
       " '_i15': 'a = [1, 2, 3, 4, 5, 6, 7, 8, 9, 10]\\nlist(map(lambda x: str(x) if x % 3 == 0 else x, a))',\n",
       " 'a': 10,\n",
       " '_15': [1, 2, '3', 4, 5, '6', 7, 8, '9', 10],\n",
       " '_i16': 'a = [1, 2, 3, 4, 5, 6, 7, 8, 9, 10]\\nlist(map(lambda x: str(x) if x % 3 == 0 , a))',\n",
       " '_i17': 'a = [1, 2, 3, 4, 5, 6, 7, 8, 9, 10]\\nlist(map(lambda x: str(x) if x % 3 == 0 else x, a))',\n",
       " '_17': [1, 2, '3', 4, 5, '6', 7, 8, '9', 10],\n",
       " '_i18': '# 1은 문자열 2는 실수 3이상은 +10\\nlist(map(lambda x: str(x) if x == 1 else float(x) if x == 2 else x + 10, a))',\n",
       " '_18': ['1', 2.0, 13, 14, 15, 16, 17, 18, 19, 20],\n",
       " '_i19': '# 두 리스트의 요소를 곱해서 새로운 리스트\\na = [1, 2, 3, 4, 5]\\nb = [2, 4, 6, 8, 10]\\nlist(map(lambda x, y: x * y, a, b))',\n",
       " 'b': [2, 4, 6, 8, 10],\n",
       " '_19': [2, 8, 18, 32, 50],\n",
       " '_i20': '# 5보다 크면서 10보다 작은 숫자\\na = [8, 3, 2, 10, 15, 7, 1, 9, 0, 11]\\nlist(filter(lambda x: x > 5 and x < 10, a))',\n",
       " '_20': [8, 7, 9],\n",
       " '_i21': 'a = [1, 2, 3, 4, 5]\\nfrom functools import reduce\\nreduce(lambda x, y: x+y, a)',\n",
       " 'reduce': <function _functools.reduce>,\n",
       " '_21': 15,\n",
       " '_i22': \"files = ['font', '1.png', '10.jpg', '11.gif', '2.jpg', '3.png', 'table.xslx', 'spec.docx']\",\n",
       " 'files': ['1.jpg', '10.png', '11.png', '2.jpg', '3.png'],\n",
       " '_i23': \"print(list(filter(lambda x: x.find('jpg') or x.find('png'), files)))\",\n",
       " '_i24': \"print(list(filter(lambda x: x.find('jpg') != -1 or x.find('png') != -1, files)))\",\n",
       " '_i25': \"files = input().split()\\nprint(list(map(lambda x: '0' * (4-x.find('.')) + x, files)))\",\n",
       " '_i26': \"files = input().split()\\nprint(list(map(lambda x: '0' * (3-x.find('.')) + x, files)))\",\n",
       " '_i27': \"a = 10\\n'{0b}'.format(a)\",\n",
       " '_i28': \"a = 10\\n'{0d}'.format(a)\",\n",
       " '_i29': \"a = 10\\n'{0:0d}'.format(a)\",\n",
       " '_29': '10',\n",
       " '_i30': \"a = 10\\n'{0:0b}'.format(a)\",\n",
       " '_30': '1010',\n",
       " '_i31': \"a = 10\\n'{0:04b}'.format(a)\",\n",
       " '_31': '1010',\n",
       " '_i32': \"a = 10\\n'{0:05b}'.format(a)\",\n",
       " '_32': '01010',\n",
       " '_i33': \"a = 10\\n'%05b'%(a)\",\n",
       " '_i34': \"a = 10\\n'%05d'%(a)\",\n",
       " '_34': '00010',\n",
       " '_i35': 'locals()'}"
      ]
     },
     "execution_count": 35,
     "metadata": {},
     "output_type": "execute_result"
    }
   ],
   "source": [
    "locals()"
   ]
  },
  {
   "cell_type": "markdown",
   "metadata": {},
   "source": [
    "# 클로저"
   ]
  },
  {
   "cell_type": "code",
   "execution_count": 37,
   "metadata": {},
   "outputs": [
    {
     "name": "stdout",
     "output_type": "stream",
     "text": [
      "8 11 14 17 20\n"
     ]
    }
   ],
   "source": [
    "def calc(): # 클로저\n",
    "    a = 3\n",
    "    b = 5\n",
    "    def mul_add(x):\n",
    "        return a * x + b\n",
    "    return mul_add\n",
    "\n",
    "c = calc()\n",
    "print(c(1), c(2), c(3), c(4), c(5))"
   ]
  },
  {
   "cell_type": "markdown",
   "metadata": {},
   "source": [
    "## 함수를 둘러싼 환경(지역 변수, 코드)을 계속 유지하다가, 함수를 호출할 때 다시 사용하는 함수 >> 클로저"
   ]
  },
  {
   "cell_type": "markdown",
   "metadata": {},
   "source": [
    "## 프로그램의 흐름을 변수에 저장할 수 있다. 특히 클로저는 내부 데이터를 숨기고 싶을 때 사용한다."
   ]
  },
  {
   "cell_type": "code",
   "execution_count": 38,
   "metadata": {},
   "outputs": [
    {
     "name": "stdout",
     "output_type": "stream",
     "text": [
      "8 11 14 17 20\n"
     ]
    }
   ],
   "source": [
    "def calc2(): # lambda 표현식을 반환하는 클로저\n",
    "    a = 3\n",
    "    b = 5\n",
    "    return lambda x : a * x + b    # lambda 표현식을 반환\n",
    "\n",
    "c = calc2()\n",
    "print(c(1), c(2), c(3), c(4), c(5))"
   ]
  },
  {
   "cell_type": "markdown",
   "metadata": {},
   "source": [
    "### 람다 : 이름이 없는 익명 함수\n",
    "### 클로저: 함수를 둘러싼 환경을 유지했다가 나중에 다시 사용하는 함수"
   ]
  },
  {
   "cell_type": "code",
   "execution_count": 40,
   "metadata": {},
   "outputs": [
    {
     "name": "stdout",
     "output_type": "stream",
     "text": [
      "8\n",
      "19\n",
      "33\n"
     ]
    }
   ],
   "source": [
    "# 결과를 누적하는 클로저\n",
    "def accum_calc():\n",
    "    a = 3\n",
    "    b = 5\n",
    "    total = 0\n",
    "    def mul_add(x):\n",
    "        nonlocal total\n",
    "        total = total + a * x + b\n",
    "        print(total)\n",
    "    return mul_add\n",
    "\n",
    "c = accum_calc()\n",
    "c(1)\n",
    "c(2)\n",
    "c(3)"
   ]
  },
  {
   "cell_type": "code",
   "execution_count": 2,
   "metadata": {},
   "outputs": [
    {
     "name": "stdout",
     "output_type": "stream",
     "text": [
      "1 2 3 4 5 6 7 8 9 10 "
     ]
    }
   ],
   "source": [
    "def counter():\n",
    "    tries = 0\n",
    "    def my_call():\n",
    "        nonlocal tries\n",
    "        tries += 1\n",
    "        return tries\n",
    "    return my_call\n",
    "\n",
    "c = counter()\n",
    "for i in range(10):\n",
    "    print(c(), end=' ')"
   ]
  },
  {
   "cell_type": "code",
   "execution_count": 4,
   "metadata": {},
   "outputs": [
    {
     "name": "stdout",
     "output_type": "stream",
     "text": [
      "10\n",
      "10 9 8 7 6 5 4 3 2 1 "
     ]
    }
   ],
   "source": [
    "def countdown(n):\n",
    "    def down_one():\n",
    "        nonlocal n\n",
    "        result = n\n",
    "        n -= 1\n",
    "        return result\n",
    "    return down_one\n",
    "\n",
    "n = int(input())\n",
    "\n",
    "c = countdown(n)\n",
    "for i in range(n):\n",
    "    print(c(), end = ' ')"
   ]
  },
  {
   "cell_type": "code",
   "execution_count": null,
   "metadata": {},
   "outputs": [],
   "source": []
  }
 ],
 "metadata": {
  "kernelspec": {
   "display_name": "Python 3",
   "language": "python",
   "name": "python3"
  },
  "language_info": {
   "codemirror_mode": {
    "name": "ipython",
    "version": 3
   },
   "file_extension": ".py",
   "mimetype": "text/x-python",
   "name": "python",
   "nbconvert_exporter": "python",
   "pygments_lexer": "ipython3",
   "version": "3.6.5"
  }
 },
 "nbformat": 4,
 "nbformat_minor": 2
}
